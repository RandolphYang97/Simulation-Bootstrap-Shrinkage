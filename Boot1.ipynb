{
 "cells": [
  {
   "cell_type": "markdown",
   "metadata": {},
   "source": [
    "*  This program shows you how to do a boostrap, and then apply it to find the standard error of a data set. "
   ]
  },
  {
   "cell_type": "code",
   "execution_count": null,
   "metadata": {},
   "outputs": [],
   "source": [
    "import numpy as np\n",
    "from sklearn.utils import resample   # the package does the boostrap\n",
    "\n",
    "np.random.seed(1234)         # so that the random numbers will be the same each time running the program\n",
    "\n",
    "# We first simulate data, 3x2, think 2 asset returns over 3 time periods\n",
    "\n",
    "R = np.random.randn(3,2)    # TxN matrix\n",
    "\n",
    "print('  the orignal data  \\n')\n",
    "print(R)  # see what the data look like\n",
    "\n",
    "# Get one bootstrap of the data, still 2x3\n",
    "\n",
    "boot = resample(R, replace=True, n_samples=3, random_state=0)\n",
    "            # the first is the orignail data; boostrap draws by row \n",
    "           # the 2nd says the boostrap is standard, replacement OK; \n",
    "           # 3rd is the sample size; the 4th is set the random seed\n",
    "          # to allow the same ramdom repetition\n",
    "\n",
    "print('    \\n')\n",
    "print('  the first bootstrap data  \\n')\n",
    "print(boot)\n",
    "\n",
    "# Get yet another bootstrap of the data \n",
    "\n",
    "boot = resample(R, replace=True, n_samples=3, random_state=0)\n",
    "\n",
    "print('    \\n')\n",
    "print('  the 2nd bootstrap data  \\n')\n",
    "print(boot)   # you will get the same as the seed is the same\n",
    "\n",
    "# Get another bootstrap of the data \n",
    "\n",
    "boot = resample(R, replace=True, n_samples=3, random_state=1)\n",
    "\n",
    "print('    \\n')\n",
    "print('  the 3rd bootstrap data  \\n')\n",
    "print(boot)   # you will now a different one as the seed is different\n",
    "\n"
   ]
  },
  {
   "cell_type": "code",
   "execution_count": null,
   "metadata": {},
   "outputs": [],
   "source": [
    "# Now let us increase the data size to T=100\n",
    "#   and use bootstrap to compute the standard error\n",
    "\n",
    "R = np.random.randn(100,2)    # TxN matrix\n",
    "\n",
    "B = 200             # the number of boostrap draws\n",
    " \n",
    "boot = resample(R, replace=True, n_samples=200, random_state=0)\n",
    "                  # get 200 returns based on the origanl data\n",
    "\n",
    "var = np.var(boot)\n",
    "std = np.sqrt(var)\n",
    " \n",
    "print('    \\n')\n",
    "print('  the std of the bootstrapped data  \\n')\n",
    "print(std)\n",
    "\n",
    "var1 = np.var(R)\n",
    "std1 = np.sqrt(var1)\n",
    "\n",
    "print('    \\n')\n",
    "print('  the std of the origanl data  \\n')\n",
    "print(std1)\n",
    " \n",
    "# In practice, when the data is not normally distributed, bootstrapped \n",
    "# std generally offers improvement over asymptotic approximate normal one"
   ]
  },
  {
   "cell_type": "code",
   "execution_count": null,
   "metadata": {},
   "outputs": [],
   "source": [
    " "
   ]
  },
  {
   "cell_type": "code",
   "execution_count": null,
   "metadata": {},
   "outputs": [],
   "source": [
    " "
   ]
  },
  {
   "cell_type": "code",
   "execution_count": null,
   "metadata": {},
   "outputs": [],
   "source": []
  },
  {
   "cell_type": "code",
   "execution_count": null,
   "metadata": {},
   "outputs": [],
   "source": []
  }
 ],
 "metadata": {
  "anaconda-cloud": {},
  "kernelspec": {
   "display_name": "Python 3",
   "language": "python",
   "name": "python3"
  },
  "language_info": {
   "codemirror_mode": {
    "name": "ipython",
    "version": 3
   },
   "file_extension": ".py",
   "mimetype": "text/x-python",
   "name": "python",
   "nbconvert_exporter": "python",
   "pygments_lexer": "ipython3",
   "version": "3.7.6"
  }
 },
 "nbformat": 4,
 "nbformat_minor": 1
}
