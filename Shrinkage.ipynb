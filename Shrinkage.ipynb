{
 "cells": [
  {
   "cell_type": "markdown",
   "metadata": {},
   "source": [
    "*    We examine below how the shrinkage estimators work for\n",
    "*       a data set drawn from N-variate normal with length T\n"
   ]
  },
  {
   "cell_type": "code",
   "execution_count": 140,
   "metadata": {},
   "outputs": [
    {
     "name": "stdout",
     "output_type": "stream",
     "text": [
      "  The mean squared errors to the true mean  \n",
      "\n",
      "0.5684770078847065 0.4411894348526486 0.4443511166409121\n"
     ]
    }
   ],
   "source": [
    "import numpy as np\n",
    "import scipy.linalg as la      # we need the package to compute the Cholesky decomposition\n",
    " \n",
    "np.random.seed(1234)         # so that the random numbers will be the same each time running the program\n",
    "\n",
    "N = 10\n",
    "T = 30\n",
    "\n",
    "mu0 = np.array([[1.3, 1, 1.2,  1,  1.1,  1, 0.9, 1, 0.7, 0.8]])   # True mean\n",
    "mu0 = mu0.T\n",
    "V0 = np.identity(10)                            # set the covariance matrix to the identity matrix \n",
    "\n",
    "L1 = la.cholesky(V0)             # Cholesky decomposition:  V10 = L1'*L1\n",
    "L = L1.T                           # V0 = L*L',  L=L1'\n",
    "                                   # This is for a general V0 as L1 is didenty if V0 is identity\n",
    "    \n",
    "M = 10000                      #  # of draws or # of times we use the estimation method\n",
    "R = np.ones((T,N))                   #     define R to store returns\n",
    "Z1 = np.ones((M,1))               #     M by 1 vector\n",
    "Z2 = np.ones((M,1)) \n",
    "Z3 = np.ones((M,1)) \n",
    "\n",
    "for i in range (M):             #   this loop runs the simulation\n",
    "    \n",
    "    for t in range (T):          #  generate the data of legnth T \n",
    "        e = np.random.randn(N,1)    \n",
    "        Y = mu0 + np.matmul(L,e)\n",
    "        R[t,:] = Y.T\n",
    "\n",
    "    muR = np.mean(R,axis = 0)\n",
    "    muR = muR.T                             # N by 1\n",
    "    V = np.cov(R.T)                        # the covariance estimate, N by N\n",
    "    VI = np.linalg.inv(V)                     # The inverse of V\n",
    "\n",
    "    eigvals, eigvecs = np.linalg.eig(V)     #  get the eigenvalues and eigenvectors\n",
    "\n",
    "    lbar = np.mean(eigvals)\n",
    "    lambda1 = np.max(eigvals)\n",
    "     \n",
    "              # The first shrinkage estimator\n",
    "            \n",
    "    b1 = np.mean(muR,axis = 0)*np.ones((N,1))  \n",
    "    muR.shape = (N,1)                   # make sure N by 1\n",
    "    a1 = muR - b1\n",
    "    a = np.dot(a1.T, a1)                             #  The term (muR-b1)'*(muR-b1)\n",
    "    alpha=(1/T)*(N*lbar - 2*lambda1) / a\n",
    "    Smu1=(1-alpha)*muR + alpha*b1\n",
    "    \n",
    "                  # The 2nd shrinkage estimator\n",
    "                \n",
    "    onesN = np.ones((N,1))  \n",
    "    B = np.matmul(onesN.T,VI)\n",
    "    b11 = np.matrix(onesN.T)*np.matrix(VI)*np.matrix(muR)\n",
    "    b12 = np.matrix(onesN.T)*np.matrix(VI)*np.matrix(onesN)\n",
    "    c11 = b11.item()                             # make an array to a scalar ! \n",
    "    c12 = b12.item()   \n",
    "    b2 = (c11/c12) * onesN          \n",
    "    b = np.dot((muR-b2).T, (muR-b2))                              #  The term (muR-b2)'*(muR-b2)\n",
    "    alpha = (1/T)*(N*lbar - 2*lambda1)/ b\n",
    "    Smu2 = (1-alpha)*muR + alpha*b2\n",
    "    \n",
    "                  # store the squared errors of the estimates \n",
    "                                       \n",
    "    Z1[i] = np.dot((muR-mu0).T, (muR-mu0))       #  (muR-mu0)'*(muR-mu0)\n",
    "    Z2[i] = np.dot((Smu1-mu0).T, (Smu1-mu0))    \n",
    "    Z3[i] = np.dot((Smu2-mu0).T, (Smu2-mu0))   \n",
    "\n",
    "Err1 = np.sqrt( np.mean(Z1) )                                  \n",
    "Err2 = np.sqrt( np.mean(Z2) )\n",
    "Err3 = np.sqrt( np.mean(Z3) )                           \n",
    "                                         \n",
    "print('  The mean squared errors to the true mean  \\n')\n",
    "print(Err1,Err2,Err3)"
   ]
  },
  {
   "cell_type": "code",
   "execution_count": null,
   "metadata": {},
   "outputs": [],
   "source": []
  }
 ],
 "metadata": {
  "anaconda-cloud": {},
  "kernelspec": {
   "display_name": "Python 3",
   "language": "python",
   "name": "python3"
  },
  "language_info": {
   "codemirror_mode": {
    "name": "ipython",
    "version": 3
   },
   "file_extension": ".py",
   "mimetype": "text/x-python",
   "name": "python",
   "nbconvert_exporter": "python",
   "pygments_lexer": "ipython3",
   "version": "3.7.6"
  }
 },
 "nbformat": 4,
 "nbformat_minor": 1
}
