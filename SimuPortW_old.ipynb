{
 "cells": [
  {
   "cell_type": "markdown",
   "metadata": {},
   "source": [
    "*  This program simulates, for arbitrarily given N (# of assets) and T (sample * size, a set of true mean and covariance parameters; then a set of N asset retturns drawn from a normal distribution with those parameters, and then see how well for estimated optimal portfolio performs.\n",
    "***\n",
    "***\n",
    "The purpose is to understand how estimation errors affcet the performance.\n",
    " "
   ]
  },
  {
   "cell_type": "code",
   "execution_count": 22,
   "metadata": {},
   "outputs": [
    {
     "name": "stdout",
     "output_type": "stream",
     "text": [
      "(3, 1)\n",
      "[[ 1.         -0.85958841  3.23124234]\n",
      " [-0.85958841  1.73889224 -3.9275742 ]\n",
      " [ 3.23124234 -3.9275742  12.76350922]]\n",
      "[[1.6022921 ]\n",
      " [0.30392458]\n",
      " [4.19002612]]\n",
      " The # of assets and sample size  \n",
      "\n",
      "          3  120 \n",
      "\n",
      "  The theoretical Sharpe ratio given the parameters  \n",
      "\n",
      "[[259.35468089]]\n"
     ]
    }
   ],
   "source": [
    "import numpy as np\n",
    "import scipy.linalg as la      # we need the package to compute the Cholesky decomposition\n",
    "\n",
    "np.random.seed(1234)         # so that the random numbers will be the same each time running the program\n",
    "\n",
    "# We set the parameters first. \n",
    "# Although one can enter parameters manually, below is a simple sysmatic way\n",
    "# to generate them\n",
    "\n",
    "N = 3    # an arbitrary number of assets \n",
    "T = 120    # sample size, such as 10 years of month data\n",
    "\n",
    "mu = np.random.randn(N,1)\n",
    "mu = np.exp(mu)  # get a vector of positive expected return parameters\n",
    "\n",
    "L1 = np.random.randn(N,N)  # get a random matrix \n",
    "L = np.tril(L1)        # get only its lower traingular part\n",
    "np.fill_diagonal(L, 1)  # replace the diagonal element by 1\n",
    "                        # So L can be a Cholesky decomposition\n",
    "                      # Note: the output is L with values replaced  \n",
    " \n",
    "V = np.matmul(L.T,L)    # V = L'*L,  our covariance matrix\n",
    "                         # it will be positive definite by design\n",
    "\n",
    "# Assume the riskfree rate is zero\n",
    "# get the theoretical Sharpe ratio from formula (2.60) of the Lecture Notes\n",
    "#          \n",
    "\n",
    "VI = np.linalg.inv(V)    # The inverse of S\n",
    "                         # np.linalg.inv is a np function \n",
    "print(mu.shape)\n",
    "print(VI)\n",
    "print(mu)\n",
    "B = np.matmul(VI, mu)       #  the vector VI*mu\n",
    "\n",
    "SR = np.matmul(mu.T,B)       #   mu'*VI*mu\n",
    "     \n",
    "# SR = np.sqrt(SR)\n",
    "\n",
    "print(' The # of assets and sample size  \\n')\n",
    "print('          {}  {} \\n'.format(N, T))   \n",
    "print('  The theoretical Sharpe ratio given the parameters  \\n')\n",
    "print(SR)"
   ]
  },
  {
   "cell_type": "code",
   "execution_count": 5,
   "metadata": {},
   "outputs": [
    {
     "name": "stdout",
     "output_type": "stream",
     "text": [
      " The covariance matrix estimate of the data  \n",
      "\n",
      "[[1.00199578 0.09938527 0.30058091]\n",
      " [0.09938527 2.00514912 0.49991961]\n",
      " [0.30058091 0.49991961 3.00407019]]\n",
      "[[1.  0.1 0.3]\n",
      " [0.1 2.  0.5]\n",
      " [0.3 0.5 3. ]]\n"
     ]
    }
   ],
   "source": [
    "L1 = la.cholesky(V0)             # Cholesky decomposition:  V0 = L1'*L1\n",
    "\n",
    "L = L1.T                         # V0 = L*L',  L=L1'\n",
    "e = np.random.randn(3,1)   \n",
    "Y = np.matmul(L,e)              # Y = L*e,  a draw from normal with covariance matrix V0\n",
    "\n",
    "V = np.matmul(L1.T,L1)              #   verify V0 = L1'*L1\n",
    "\n",
    "\n",
    "\n",
    "L = np.array(L)      # convert list to array to apply np.functions\n",
    "L.shape = (N,N)      # make sure it is NxN matrix\n",
    "LT = np.transpose(L)\n",
    "print(L.shape)\n",
    "\n",
    "VI = np.linalg.inv(V)    # The inverse of S\n",
    "                         # np.linalg.inv is a np function \n",
    "SR1 = np.dot(np.dot(mu, VI), mu)\n",
    "SR = np.sqrt(SR1)\n",
    "\n",
    "print(' The # of assets and sample size  \\n')\n",
    "print('          {}  {} \\n'.format(N, T))   \n",
    "print('  The theoretical Sharpe ratio given the parameters  \\n')\n",
    "print(SR)\n",
    "\n",
    "\n",
    "\n",
    "\n",
    "\n",
    "\n",
    "##  A verification: draw 100,000 of them and see whether they have the desired moments\n",
    "        \n",
    "        \n",
    "Z = np.ones((1000000,3))    # define Z to store the draws   \n",
    " \n",
    "for i in range (1000000):\n",
    "    e = np.random.randn(3,1)    \n",
    "    Y = np.matmul(L,e)\n",
    "    Z[i,:] = Y.T\n",
    "  \n",
    "\n",
    "CovY = np.cov(Z.T)                        # the covariance matrix estimate, 2 by 2\n",
    "\n",
    "print(' The covariance matrix estimate of the data  \\n')\n",
    "print(CovY)\n",
    "print (V0) "
   ]
  },
  {
   "cell_type": "code",
   "execution_count": null,
   "metadata": {},
   "outputs": [],
   "source": []
  }
 ],
 "metadata": {
  "anaconda-cloud": {},
  "kernelspec": {
   "display_name": "Python 3",
   "language": "python",
   "name": "python3"
  },
  "language_info": {
   "codemirror_mode": {
    "name": "ipython",
    "version": 3
   },
   "file_extension": ".py",
   "mimetype": "text/x-python",
   "name": "python",
   "nbconvert_exporter": "python",
   "pygments_lexer": "ipython3",
   "version": "3.7.6"
  }
 },
 "nbformat": 4,
 "nbformat_minor": 1
}
