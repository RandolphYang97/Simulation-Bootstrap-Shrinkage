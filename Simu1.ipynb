{
 "cells": [
  {
   "cell_type": "markdown",
   "metadata": {},
   "source": [
    "*    This simulates bivariate normal variables with a given correlation rho"
   ]
  },
  {
   "cell_type": "code",
   "execution_count": 1,
   "metadata": {},
   "outputs": [
    {
     "name": "stdout",
     "output_type": "stream",
     "text": [
      "[[0.47143516]] [[-0.79569763]]\n"
     ]
    }
   ],
   "source": [
    "import numpy as np\n",
    "\n",
    "np.random.seed(1234)         # so that the random numbers will be the same each time running the program\n",
    "\n",
    "\n",
    "e1 = np.random.randn(1,1)     # Generate a random from N(0,1) \n",
    "e2 = np.random.randn(1,1)      \n",
    "\n",
    "rho = 0.5\n",
    "x1 = e1\n",
    "x2 = rho*e1 + np.sqrt(1-rho*rho)*e2        # Then x1 & x2 have unit variance and correlation rho\n",
    "\n",
    "\n",
    "print (x1,x2)                                   "
   ]
  },
  {
   "cell_type": "code",
   "execution_count": 4,
   "metadata": {},
   "outputs": [
    {
     "name": "stdout",
     "output_type": "stream",
     "text": [
      " \n",
      " The covariance matrix estimate of the data   \n",
      "[[1.0408337  0.51618695]\n",
      " [0.51618695 0.99469265]]\n"
     ]
    }
   ],
   "source": [
    "##  A verification: draw 100,000 of them and see whether they have the desired moments\n",
    "        \n",
    "        \n",
    "Y1 = np.ones((10000,1))    # define Y1 as a 1,000,000 by 1 vector\n",
    "Y2 = np.ones((10000,1))   # define Y1 as a 1,000,000 by 1 vector\n",
    " \n",
    "for i in range (10000):\n",
    "    e1 = np.random.randn(1,1)    \n",
    "    e2 = np.random.randn(1,1)\n",
    "    x1 = e1\n",
    "    x2 = rho*e1 + np.sqrt(1-rho*rho)*e2 \n",
    "    Y1[i] = x1\n",
    "    Y2[i] = x2\n",
    "\n",
    "Y = np.column_stack((Y1,Y2))              # stack the columns together to get T by 2 matrix \n",
    " \n",
    "CovY = np.cov(Y.T)                        # the covariance matrix estimate, 2 by 2\n",
    "\n",
    "print(' \\n The covariance matrix estimate of the simulated data   ')\n",
    "print(CovY)"
   ]
  },
  {
   "cell_type": "code",
   "execution_count": 11,
   "metadata": {},
   "outputs": [
    {
     "name": "stdout",
     "output_type": "stream",
     "text": [
      " \n",
      " The covariance matrix estimate of the simulated data   \n",
      "[[0.98584643 0.50149602]\n",
      " [0.50149602 1.01514793]]\n"
     ]
    }
   ],
   "source": [
    "#  Generate directly using a multivarite function \n",
    "\n",
    "mean = np.zeros((2,))       # 2 by 1 of 0s, 1-dimension array in Python\n",
    "                              # this is what the function requires \n",
    "                              # using (2,1) will create a 2-d array\n",
    " \n",
    "cov = np.eye(2)             # 2 by 2 identity matrix \n",
    "cov[0,1] = rho\n",
    "cov[1,0] = rho              # the desired covariance matrix \n",
    "\n",
    "Y = np.random.multivariate_normal(mean, cov, (10000,))\n",
    "\n",
    "CovY = np.cov(Y.T)          # the covariance matrix estimate, 2 by 2\n",
    "\n",
    "print(' \\n The covariance matrix estimate of the simulated data   ')\n",
    "print(CovY)\n",
    " "
   ]
  },
  {
   "cell_type": "code",
   "execution_count": null,
   "metadata": {},
   "outputs": [],
   "source": []
  }
 ],
 "metadata": {
  "anaconda-cloud": {},
  "kernelspec": {
   "display_name": "Python 3",
   "language": "python",
   "name": "python3"
  },
  "language_info": {
   "codemirror_mode": {
    "name": "ipython",
    "version": 3
   },
   "file_extension": ".py",
   "mimetype": "text/x-python",
   "name": "python",
   "nbconvert_exporter": "python",
   "pygments_lexer": "ipython3",
   "version": "3.7.6"
  }
 },
 "nbformat": 4,
 "nbformat_minor": 1
}
