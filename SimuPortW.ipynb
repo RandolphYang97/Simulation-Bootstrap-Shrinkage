{
 "cells": [
  {
   "cell_type": "markdown",
   "metadata": {},
   "source": [
    "*  This program simulates, for arbitrarily given N (# of assets) and T (sample * size, a set of true mean and covariance parameters; then a set of N asset retturns drawn from a normal distribution with those parameters, and then see how well for estimated optimal portfolio performs.\n",
    "***\n",
    "The purpose is to understand how estimation errors affect the performance.\n",
    " "
   ]
  },
  {
   "cell_type": "code",
   "execution_count": 36,
   "metadata": {},
   "outputs": [
    {
     "name": "stdout",
     "output_type": "stream",
     "text": [
      " The # of assets and sample size  \n",
      "\n",
      "          20  120 \n",
      "\n",
      "  The theoretical Sharpe ratio given the parameters  \n",
      "\n",
      "[[1.41671171]]\n"
     ]
    }
   ],
   "source": [
    "import numpy as np\n",
    "import scipy.linalg as la      # we need the package to compute the Cholesky decomposition\n",
    "\n",
    "np.random.seed(1234)         # so that the random numbers will be the same each time running the program\n",
    "\n",
    "# We set the parameters first. \n",
    "# Although one can enter parameters manually, below is a simple sysmatic way\n",
    "# to generate them\n",
    "\n",
    "N = 20    # an arbitrary number of assets \n",
    "T = 120    # sample size T>N, such as 10 years of month data\n",
    "\n",
    "mu = np.random.randn(N,1)\n",
    "mu = np.exp(mu)/10  # get a vector of positive expected return parameters\n",
    "                       # dividing by 100 is just to make it smaller\n",
    "    \n",
    "L = np.random.randn(N,N)  # get a random matrix\n",
    "V = np.matmul(L.T,L)    # V = L'*L,  our covariance matrix\n",
    "                         # it will be positive definite prob 1\n",
    "                       #  b/c L is nonsingular with probability 1\n",
    "\n",
    "# Assume the riskfree rate is zero\n",
    "# get the theoretical Sharpe ratio from formula (2.60) of the Lecture Notes\n",
    "#          \n",
    "\n",
    "VI = np.linalg.inv(V)    # The inverse of S\n",
    "                         # np.linalg.inv is a np function \n",
    "\n",
    "B = np.matmul(VI, mu)       #  the vector VI*mu\n",
    "\n",
    "SR = np.matmul(mu.T,B)       #   mu'*VI*mu\n",
    "     \n",
    "# SR = np.sqrt(SR)\n",
    "\n",
    "print(' The # of assets and sample size  \\n')\n",
    "print('          {}  {} \\n'.format(N, T))   \n",
    "print('  The theoretical Sharpe ratio given the parameters  \\n')\n",
    "print(SR)"
   ]
  },
  {
   "cell_type": "code",
   "execution_count": 37,
   "metadata": {},
   "outputs": [],
   "source": [
    "# \n",
    "# Now we simulate an initial data/returns from the normal(mu, V)\n",
    "#      sample size T\n",
    "\n",
    "L1 = la.cholesky(V)             # Cholesky decomposition:  V = L1'*L1\n",
    "L = L1.T                         # V = L*L',  L=L1'\n",
    "\n",
    "R = np.ones((N, T))    # define the matrix to store returns\n",
    "\n",
    "for i in range(T):\n",
    "    e = np.random.randn(N,1) # standard normal\n",
    "    Y = mu + np.matmul(L,e)  # Y = mu + L*e, a draw from normal(mu,V)\n",
    "    R[:,i]= Y.T\n",
    "  \n",
    "# #  Note   \n",
    "#  A one-step matrix multiplication method without the loop is to use\n",
    "# formula:    R = mu*1_T + L*E,  E is NxT matrix of normal(0,1)\n",
    "#  The loop approach is easier to understand"
   ]
  },
  {
   "cell_type": "code",
   "execution_count": 38,
   "metadata": {},
   "outputs": [],
   "source": [
    "# Compute the estimated optimal portfolio weights\n",
    "\n",
    "mu5 = np.mean(R, axis = 1)  # the mean taking each row of the matrix,\n",
    "                            # note R is NxT here  \n",
    "mu5 = mu5.T               # make it a column vector\n",
    "S = np.cov(R)             # the covariance estimate, N by N \n",
    "\n",
    "SI = np.linalg.inv(S)                     # The inverse of V\n",
    "\n",
    "# The optimal weights on the N risky aasets\n",
    "\n",
    "gamma = 3                             # The risk-averse coeff.\n",
    "\n",
    "w = 1/gamma*np.matmul(SI, mu5)\n",
    "\n",
    "# print('  the estimated optimal portfolio weights  \\n')\n",
    "# print(w)"
   ]
  },
  {
   "cell_type": "code",
   "execution_count": 39,
   "metadata": {},
   "outputs": [
    {
     "name": "stdout",
     "output_type": "stream",
     "text": [
      " The # of assets and sample size  \n",
      "\n",
      "          20  120 \n",
      "\n",
      "  The theoretical Sharpe ratio and that of the estimated rule  \n",
      "\n",
      "[[1.41671171]] 1.0112810744127174\n",
      "  The percentage difference achieved  \n",
      "\n",
      "[[0.71382277]]\n"
     ]
    }
   ],
   "source": [
    "##  Now apply the optimal estimated rule to M=100,000 random N(mu, V) returns\n",
    "        \n",
    "M = 100000\n",
    "Z = np.ones((M,1))    # define Z to store the returns   \n",
    "\n",
    "L1 = la.cholesky(V)             # Cholesky decomposition:  V0 = L1'*L1\n",
    "L = L1.T                         # V = L*L',  L=L1'\n",
    "\n",
    "for i in range (M):\n",
    "    e = np.random.randn(N,1)    \n",
    "    Y = mu + np.matmul(L,e)         # Y = L*e, a draw from normal(mu, V)\n",
    "    Z[i,:] = np.dot(w, Y)          # portfolio return\n",
    "\n",
    "# Compute the Sharpe ratio over the M draws, which is the expected Sharpe ratio \n",
    "# of the estmated optimal portfolio rule\n",
    "\n",
    "mu1 = Z.mean()                          # The expected mkt excess return\n",
    "sig2 = Z.var()                         # The var of the mkt excess return\n",
    "sigma = np.sqrt(sig2)                    # Its vol\n",
    "\n",
    "SRe =  mu1 / sigma     # The optimal weight on mkt\n",
    "\n",
    "print(' The # of assets and sample size  \\n')\n",
    "print('          {}  {} \\n'.format(N, T))   \n",
    "print('  The theoretical Sharpe ratio and that of the estimated rule  \\n')\n",
    "print(SR,SRe)\n",
    "print('  The percentage difference achieved  \\n')\n",
    "print(SRe/SR)"
   ]
  },
  {
   "cell_type": "code",
   "execution_count": null,
   "metadata": {},
   "outputs": [],
   "source": []
  }
 ],
 "metadata": {
  "anaconda-cloud": {},
  "kernelspec": {
   "display_name": "Python 3",
   "language": "python",
   "name": "python3"
  },
  "language_info": {
   "codemirror_mode": {
    "name": "ipython",
    "version": 3
   },
   "file_extension": ".py",
   "mimetype": "text/x-python",
   "name": "python",
   "nbconvert_exporter": "python",
   "pygments_lexer": "ipython3",
   "version": "3.7.6"
  }
 },
 "nbformat": 4,
 "nbformat_minor": 1
}
