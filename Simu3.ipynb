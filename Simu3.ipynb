{
 "cells": [
  {
   "cell_type": "markdown",
   "metadata": {},
   "source": [
    "*   Find the 10-day 95% VaR of a portfolio worth 100m today, invested in 3 stocks with weights\n",
    "*    30%, 30% and 40%.  The annual returns are 10%, 12%, and 15%, respectively, \n",
    "*       with covariance matrix V0\n"
   ]
  },
  {
   "cell_type": "code",
   "execution_count": 1,
   "metadata": {},
   "outputs": [
    {
     "name": "stdout",
     "output_type": "stream",
     "text": [
      " a random draw/realization of the returns  \n",
      "\n",
      "[[ 0.21863182]\n",
      " [-0.72059803]\n",
      " [ 0.9667945 ]]\n"
     ]
    }
   ],
   "source": [
    "import numpy as np\n",
    "import scipy.linalg as la      # we need the package to compute the Cholesky decomposition\n",
    "import matplotlib.pyplot as plt\n",
    "%matplotlib inline\n",
    "\n",
    "np.random.seed(1234)         # so that the random numbers will be the same each time running the program\n",
    "\n",
    "N = 3\n",
    "V0 = np.array([[1, 0.1, 0.3], \n",
    "               [0.1, 2, 0.5], \n",
    "               [0.3, 0.5, 3]])\n",
    "V1 = V0 / 252      #  daily variance, convention to use 252 trading days \n",
    "                   # if vol, we should divide by /sqrt(252)\n",
    "V10 = 10*V1        # 10-day variance\n",
    "w = np.array([[0.3, 0.3, 0.4]])           # portfolio weight, 1 by 3\n",
    "mu = np.array([[0.3, 0.3, 0.4]])          # expected return\n",
    "mu = mu.T                                 # make it 3 by 1\n",
    "mu10 = 10*mu/365                           # 10-day return\n",
    "\n",
    "L1 = la.cholesky(V10)             # Cholesky decomposition:  V10 = L1'*L1\n",
    "\n",
    "L = L1.T                           # V10 = L*L',  L=L1'\n",
    "e = np.random.randn(3,1)   \n",
    "\n",
    "Y = mu10 + np.matmul(L,e)              # a random draw/realization of the returns\n",
    "ValueC = 100*(1 + np.dot(w,Y)) - 100     # change of value \n",
    "  \n",
    "print(' a random draw/realization of the returns  \\n')\n",
    "print(Y)"
   ]
  },
  {
   "cell_type": "code",
   "execution_count": 2,
   "metadata": {},
   "outputs": [
    {
     "name": "stdout",
     "output_type": "stream",
     "text": [
      "  The Value at risk, VaR, at the 95% confidence  \n",
      "\n",
      "-70.56674663974864\n"
     ]
    }
   ],
   "source": [
    "##  Now we darw 10,000 of the returns and find the 95% worst percentile break point\n",
    "        \n",
    "Z = np.ones((10000,1))    # define Z to store the draws   \n",
    "\n",
    "for i in range (10000):\n",
    "    e = np.random.randn(3,1)    \n",
    "    Y = mu10 + np.matmul(L,e)\n",
    "    ValueC = 100*(1 + np.dot(w,Y)) - 100\n",
    "    Z[i] = ValueC\n",
    "\n",
    "ZZ = np.sort(Z.T)                 # sort in increasing order, input:  row vector\n",
    "\n",
    "T = 10000\n",
    "p5 = (5/100)*T\n",
    "p5 = round(p5)                  # round it to an integer if not one already\n",
    "\n",
    "print('  The Value at risk, VaR, at the 95% confidence  \\n')\n",
    "print(ZZ[0,p5])"
   ]
  },
  {
   "cell_type": "code",
   "execution_count": 85,
   "metadata": {},
   "outputs": [
    {
     "data": {
      "image/png": "[encoded data removed]",
      "text/plain": [
       "<Figure size 432x288 with 1 Axes>"
      ]
     },
     "metadata": {
      "needs_background": "light"
     },
     "output_type": "display_data"
    }
   ],
   "source": [
    "# plot the histogram of returns and the VaR \n",
    "\n",
    "x = ZZ[0,p5] / 100\n",
    "y = 0\n",
    "\n",
    "Re = ZZ.T / 100\n",
    "p = plt.hist(Re)\n",
    "p1 = plt.scatter([x], [y],color='red')\n",
    "plt.show()"
   ]
  },
  {
   "cell_type": "code",
   "execution_count": null,
   "metadata": {},
   "outputs": [],
   "source": []
  }
 ],
 "metadata": {
  "anaconda-cloud": {},
  "kernelspec": {
   "display_name": "Python 3",
   "language": "python",
   "name": "python3"
  },
  "language_info": {
   "codemirror_mode": {
    "name": "ipython",
    "version": 3
   },
   "file_extension": ".py",
   "mimetype": "text/x-python",
   "name": "python",
   "nbconvert_exporter": "python",
   "pygments_lexer": "ipython3",
   "version": "3.7.6"
  }
 },
 "nbformat": 4,
 "nbformat_minor": 1
}
