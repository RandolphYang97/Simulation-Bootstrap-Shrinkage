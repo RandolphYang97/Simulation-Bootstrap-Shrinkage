{
 "cells": [
  {
   "cell_type": "markdown",
   "metadata": {},
   "source": [
    "*   How to run a linear regression in Python ?\n",
    "*                 y = a + b x + e"
   ]
  },
  {
   "cell_type": "code",
   "execution_count": 24,
   "metadata": {},
   "outputs": [
    {
     "name": "stdout",
     "output_type": "stream",
     "text": [
      "[[-0.4546606 ]\n",
      " [-1.24671871]]\n",
      "[[1]\n",
      " [2]]\n"
     ]
    },
    {
     "data": {
      "image/png": "[encoded data removed]",
      "text/plain": [
       "<Figure size 432x288 with 1 Axes>"
      ]
     },
     "metadata": {
      "needs_background": "light"
     },
     "output_type": "display_data"
    }
   ],
   "source": [
    "import numpy as np\n",
    "\n",
    "np.random.seed(1234)         # so that the random numbers will be the same each time running the program\n",
    "\n",
    "\n",
    "e = np.random.randn(100,1)     # Generate noise from N(0,1), 100 by 1 normally distributed data\n",
    "x = np.arange(1,101)           # np.arange() function returns an evenly spaced values within the interval:\n",
    "                               #      x=[1,2,...,100]'\n",
    "x.shape = (100,1)              # make sure x be defined as 100 by 1 vector, asnp.arange() has undefined colums\n",
    "\n",
    "print (e[0:2])                                  # check a couple of values\n",
    "print (x[0:2])  \n",
    "\n",
    "y = x + e                      # Generate y\n",
    "                               # Note that the true value of (a,b) = (0,1)\n",
    "\n",
    "# Plot the data\n",
    "\n",
    "plt.scatter(x, y)\n",
    "plt.ylabel('y')\n",
    "plt.xlabel('x')\n",
    "plt.show()"
   ]
  },
  {
   "cell_type": "code",
   "execution_count": 26,
   "metadata": {},
   "outputs": [
    {
     "name": "stdout",
     "output_type": "stream",
     "text": [
      " Regression coefficents  \n",
      "\n",
      "[0.04489209 0.99990552]\n",
      " Std Error of Regression coefficents  \n",
      "\n",
      "[0.21065029 0.00362142]\n",
      "  t-values     \n",
      "\n",
      "[2.13111916e-01 2.76108632e+02]\n"
     ]
    }
   ],
   "source": [
    "const = np.ones((100,1))          # The constant part\n",
    "xx = np.hstack((const,x))         # Add the constant part to x\n",
    "\n",
    "\n",
    "# Run the regression\n",
    "\n",
    "reg = sm.OLS(endog=y, exog=xx)\n",
    "results = reg.fit()\n",
    "\n",
    "coeff = results.params           # paramter estimates, output of sm.OLS\n",
    "print(' Regression coefficents  \\n')\n",
    "print(coeff)\n",
    "Estd = results.bse\n",
    "print(' Std Error of Regression coefficents  \\n')\n",
    "print(Estd)\n",
    "tValues = results.tvalues\n",
    "print('  t-values     \\n')\n",
    "print(tValues)\n"
   ]
  },
  {
   "cell_type": "code",
   "execution_count": 27,
   "metadata": {},
   "outputs": [
    {
     "name": "stdout",
     "output_type": "stream",
     "text": [
      " White’s (1980) heteroskedasticity robust standard errors   \n",
      "\n",
      "[0.20439623 0.00349769]\n",
      " R-sqaured   \n",
      "\n",
      "0.9987161680224904\n",
      " Adjusted R-sqaured   \n",
      "\n",
      "0.9987030676961893\n",
      "                            OLS Regression Results                            \n",
      "==============================================================================\n",
      "Dep. Variable:                      y   R-squared:                       0.999\n",
      "Model:                            OLS   Adj. R-squared:                  0.999\n",
      "Method:                 Least Squares   F-statistic:                 7.624e+04\n",
      "Date:                Tue, 31 Mar 2020   Prob (F-statistic):          1.67e-143\n",
      "Time:                        19:48:15   Log-Likelihood:                -145.32\n",
      "No. Observations:                 100   AIC:                             294.6\n",
      "Df Residuals:                      98   BIC:                             299.9\n",
      "Df Model:                           1                                         \n",
      "Covariance Type:            nonrobust                                         \n",
      "==============================================================================\n",
      "                 coef    std err          t      P>|t|      [0.025      0.975]\n",
      "------------------------------------------------------------------------------\n",
      "const          0.0449      0.211      0.213      0.832      -0.373       0.463\n",
      "x1             0.9999      0.004    276.109      0.000       0.993       1.007\n",
      "==============================================================================\n",
      "Omnibus:                        0.648   Durbin-Watson:                   1.781\n",
      "Prob(Omnibus):                  0.723   Jarque-Bera (JB):                0.557\n",
      "Skew:                          -0.181   Prob(JB):                        0.757\n",
      "Kurtosis:                       2.945   Cond. No.                         117.\n",
      "==============================================================================\n",
      "\n",
      "Warnings:\n",
      "[1] Standard Errors assume that the covariance matrix of the errors is correctly specified.\n"
     ]
    }
   ],
   "source": [
    "# Add'l Info and A summary of the entire results\n",
    "\n",
    "Werror = results.HC0_se          #  White’s (1980) heteroskedasticity robust standard errors.\n",
    "                                   #   valid when data are not necessarily normally distributed \n",
    "print(' White’s (1980) heteroskedasticity robust standard errors   \\n')\n",
    "print(Werror)\n",
    "\n",
    "R2 = results.rsquared\n",
    "print(' R-sqaured   \\n')\n",
    "print(R2)\n",
    "\n",
    "\n",
    "R2a = results.rsquared_adj\n",
    "print(' Adjusted R-sqaured   \\n')\n",
    "print(R2a)\n",
    "\n",
    "\n",
    "\n",
    "print(results.summary())"
   ]
  },
  {
   "cell_type": "code",
   "execution_count": null,
   "metadata": {},
   "outputs": [],
   "source": []
  }
 ],
 "metadata": {
  "anaconda-cloud": {},
  "kernelspec": {
   "display_name": "Python 3",
   "language": "python",
   "name": "python3"
  },
  "language_info": {
   "codemirror_mode": {
    "name": "ipython",
    "version": 3
   },
   "file_extension": ".py",
   "mimetype": "text/x-python",
   "name": "python",
   "nbconvert_exporter": "python",
   "pygments_lexer": "ipython3",
   "version": "3.7.6"
  }
 },
 "nbformat": 4,
 "nbformat_minor": 1
}
